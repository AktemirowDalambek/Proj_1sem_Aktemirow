{
  "nbformat": 4,
  "nbformat_minor": 0,
  "metadata": {
    "colab": {
      "name": "Untitled0.ipynb",
      "provenance": [],
      "authorship_tag": "ABX9TyOgDWU0WdhnpvnLsnZOpWxc",
      "include_colab_link": true
    },
    "kernelspec": {
      "name": "python3",
      "display_name": "Python 3"
    },
    "language_info": {
      "name": "python"
    }
  },
  "cells": [
    {
      "cell_type": "markdown",
      "metadata": {
        "id": "view-in-github",
        "colab_type": "text"
      },
      "source": [
        "<a href=\"https://colab.research.google.com/github/AktemirowDalambek/Proj_1sem_Aktemirow/blob/main/PZ_11.ipynb\" target=\"_parent\"><img src=\"https://colab.research.google.com/assets/colab-badge.svg\" alt=\"Open In Colab\"/></a>"
      ]
    },
    {
      "cell_type": "markdown",
      "source": [
        "Практическая работа №3"
      ],
      "metadata": {
        "id": "-PUH1iVqsvFJ"
      }
    },
    {
      "cell_type": "code",
      "execution_count": 1,
      "metadata": {
        "colab": {
          "base_uri": "https://localhost:8080/"
        },
        "id": "LgUdP0eNsWXe",
        "outputId": "da135751-4d4a-4583-e8e7-1bdca6a9e7b4"
      },
      "outputs": [
        {
          "output_type": "stream",
          "name": "stdout",
          "text": [
            "Число:43\n",
            "Число a является положительным\n"
          ]
        }
      ],
      "source": [
        "# Дано целое число A. Проверить истинность высказывания: «Число A является\n",
        "# положительным».\n",
        "\n",
        "a = int(input('Число:'))\n",
        "if (a>0):\n",
        "    print(\"Число a является положительным\")\n",
        "elif (a == 0):\n",
        "    print(\"Число а равно нулю\")\n",
        "else:\n",
        "    print(\"Число a отрицательноe\")"
      ]
    },
    {
      "cell_type": "markdown",
      "source": [
        "Практическая работа №3.2"
      ],
      "metadata": {
        "id": "2XdtyUedtQ_p"
      }
    },
    {
      "cell_type": "code",
      "source": [
        "# Даны координаты точки, не лежащей на координатных осях OX и OY.\n",
        "# Определить номер координатной четверти, в которой находится данная точка.\n",
        "\n",
        "print('Введите координаты точки')\n",
        "X = int(input(\"Введите координату X:\"))\n",
        "Y = int(input(\"Введите координату Y:\"))\n",
        "if (X>0) and (Y>0):\n",
        "    print(\"Точка лежит в I координатной четверти\")\n",
        "elif (X<0) and (Y>0):\n",
        "    print(\"Точка лежит во II координатной четверти\")\n",
        "elif (X<0) and (Y<0):\n",
        "    print(\"Точка лежит в III координатной четверти\")\n",
        "elif (X>0) and (Y<0):\n",
        "    print(\"Точка лежит в IV координатной четверти\")"
      ],
      "metadata": {
        "colab": {
          "base_uri": "https://localhost:8080/"
        },
        "id": "hjw7Mb9ltBqp",
        "outputId": "2515b53e-8780-45c1-b3fa-852b5d5e67f8"
      },
      "execution_count": 4,
      "outputs": [
        {
          "output_type": "stream",
          "name": "stdout",
          "text": [
            "Введите координаты точки\n",
            "Введите координату X:12\n",
            "Введите координату Y:-32\n",
            "Точка лежит в IV координатной четверти\n"
          ]
        }
      ]
    },
    {
      "cell_type": "markdown",
      "source": [
        "Практическая работа №4"
      ],
      "metadata": {
        "id": "_7679TXTtrmh"
      }
    },
    {
      "cell_type": "code",
      "source": [
        "# Даны два целых числа А и В (А < В). Вывести в порядке возрастания все целые числа,\n",
        "# расположенные между А и В (включая сами числа А и В), а также количество этих чисел\n",
        "# (использовать оператор цикла)\n",
        "\n",
        "a, b = input(\"Введите первое число: \"), input(\"Введите второе число: \")\n",
        "\n",
        "while type(a) != int:\n",
        "    try:\n",
        "        a = int(a)\n",
        "    except ValueError:\n",
        "        print(\"Неправильно ввели!\")\n",
        "        a = input(\"Введите первое число: \")\n",
        "\n",
        "while type(b) != int:\n",
        "    try:\n",
        "        b = int(b)\n",
        "    except ValueError:\n",
        "        print(\"Неправильно ввели!\")\n",
        "        b = input(\"Введите второе число: \")\n",
        "k = 0\n",
        "while a <= b:\n",
        "    print(a)\n",
        "    a += 1\n",
        "    k += 1\n",
        "print('Количество чисел:  ', k)"
      ],
      "metadata": {
        "colab": {
          "base_uri": "https://localhost:8080/"
        },
        "id": "Zsa1r3lttQIC",
        "outputId": "99ef9140-877e-4885-841a-4df569af3023"
      },
      "execution_count": 7,
      "outputs": [
        {
          "output_type": "stream",
          "name": "stdout",
          "text": [
            "Введите первое число: 12\n",
            "Введите второе число: 23\n",
            "12\n",
            "13\n",
            "14\n",
            "15\n",
            "16\n",
            "17\n",
            "18\n",
            "19\n",
            "20\n",
            "21\n",
            "22\n",
            "23\n",
            "Количество чисел:   12\n"
          ]
        }
      ]
    },
    {
      "cell_type": "markdown",
      "source": [
        "Практическая работа №4.2"
      ],
      "metadata": {
        "id": "CtV_yroSt7gh"
      }
    },
    {
      "cell_type": "code",
      "source": [
        "# Даны положительные числа A, B, C. На прямоугольнике размера A х B размещено максимально\n",
        "# возможное количество квадратов со стороной C (без наложений). Найти количество квадратов,\n",
        "# размещенных на прямоугольнике. Операции умножения и деления не использовать.\n",
        "\n",
        "a, b, c = input('Введите значение A:'), input('Введите значение B:'), input(\"Введите значение C:\")\n",
        "while type(a) != int:\n",
        "    try:\n",
        "        a = int(a)\n",
        "        if a <= 0:\n",
        "            print('Пожалуйста, введите положительное число.')\n",
        "            a = input('Введите значение A: ')\n",
        "    except ValueError:\n",
        "        print('Только цифры!')\n",
        "        a = input('Введите значение A:')\n",
        "while type(b) != int:\n",
        "    try:\n",
        "        b = int(b)\n",
        "        if b <= 0:\n",
        "            print('Пожалуйста, введите положительное число.')\n",
        "            b = input('Введите значение B: ')\n",
        "    except ValueError:\n",
        "        print('Только цифры!')\n",
        "        b = input('Введите значение B:')\n",
        "while type(c) != int:\n",
        "    try:\n",
        "        c = int(c)\n",
        "        if c <= 0:\n",
        "            print('Пожалуйста, введите положительное число.')\n",
        "            c = input('Введите значение C: ')\n",
        "    except ValueError:\n",
        "        print('Только цифры!')\n",
        "        c = input('Введите значение C:')\n",
        "t = c\n",
        "p = c\n",
        "i = 0\n",
        "while t <= a:\n",
        "    while p <= b:\n",
        "        p += c\n",
        "        i += 1\n",
        "    p = c\n",
        "    t += c\n",
        "print('Количество квадратов:', i)"
      ],
      "metadata": {
        "colab": {
          "base_uri": "https://localhost:8080/"
        },
        "id": "mc4Pnr6nt_tR",
        "outputId": "75663411-96f1-4345-9b96-42b88768453b"
      },
      "execution_count": 8,
      "outputs": [
        {
          "output_type": "stream",
          "name": "stdout",
          "text": [
            "Введите значение A:12\n",
            "Введите значение B:32\n",
            "Введите значение C:5\n",
            "Количество квадратов: 12\n"
          ]
        }
      ]
    },
    {
      "cell_type": "markdown",
      "source": [
        "Практическая работа №5"
      ],
      "metadata": {
        "id": "vI18bjGbuGSi"
      }
    },
    {
      "cell_type": "code",
      "source": [
        "# Составить функцию решения задачи: из заданного числа вычли сумму его цифр. Из\n",
        "# результата вновь вычли сумму его цифр и т. д. Через сколько таких действий получится\n",
        "# нуль?\n",
        "\n",
        "def f(n):\n",
        "    s = 0\n",
        "    while n > 0:\n",
        "        s += n % 10\n",
        "        n = n // 10\n",
        "    return s\n",
        "\n",
        "\n",
        "c = int(input(\"Введите число: \"))\n",
        "k = 0\n",
        "while c > 0:\n",
        "    c -= f(c)\n",
        "    k += 1\n",
        "\n",
        "print(\"Через \" + str(k) + \" действий\")"
      ],
      "metadata": {
        "colab": {
          "base_uri": "https://localhost:8080/"
        },
        "id": "ZhlBfoxJuL9K",
        "outputId": "f448e518-30b2-4531-f71e-0a46843e675c"
      },
      "execution_count": 9,
      "outputs": [
        {
          "output_type": "stream",
          "name": "stdout",
          "text": [
            "Введите число: 12\n",
            "Через 2 действий\n"
          ]
        }
      ]
    },
    {
      "cell_type": "markdown",
      "source": [
        "Практическая работа №5.2"
      ],
      "metadata": {
        "id": "yDYJebVCuRyS"
      }
    },
    {
      "cell_type": "code",
      "source": [
        "# Описать функцию PowerA234(параметры), вычисляющую вторую, третью и четвертую\n",
        "# степень числа A и возвращающую эти степени соответственно в переменные B, C и D. С\n",
        "# помощью этой функции найти вторую, третью и четвертую степень пяти данных чисел.\n",
        "\n",
        "def PowerA234(a):\n",
        "    b = pow(a, 2)\n",
        "    c = pow(a, 3)\n",
        "    d = pow(a, 4)\n",
        "    return b, c, d\n",
        "i = 1\n",
        "while i <= 5:\n",
        "    i += 1\n",
        "    b, c, d = PowerA234(i)\n",
        "    print('a = {}, b = {}, c = {}, d = {}'.format(i, b, c, d))"
      ],
      "metadata": {
        "colab": {
          "base_uri": "https://localhost:8080/"
        },
        "id": "4qoge6oyuYHJ",
        "outputId": "2dfe0dda-a799-4915-c2a6-ebc0023d4b76"
      },
      "execution_count": 10,
      "outputs": [
        {
          "output_type": "stream",
          "name": "stdout",
          "text": [
            "a = 2, b = 4, c = 8, d = 16\n",
            "a = 3, b = 9, c = 27, d = 81\n",
            "a = 4, b = 16, c = 64, d = 256\n",
            "a = 5, b = 25, c = 125, d = 625\n",
            "a = 6, b = 36, c = 216, d = 1296\n"
          ]
        }
      ]
    }
  ]
}